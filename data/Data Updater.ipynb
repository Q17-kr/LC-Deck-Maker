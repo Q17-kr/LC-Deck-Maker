{
 "cells": [
  {
   "cell_type": "code",
   "execution_count": 1,
   "id": "95a8c3ee",
   "metadata": {},
   "outputs": [],
   "source": [
    "import pandas as pd"
   ]
  },
  {
   "cell_type": "code",
   "execution_count": 2,
   "id": "65883202",
   "metadata": {},
   "outputs": [
    {
     "ename": "SyntaxError",
     "evalue": "invalid syntax (3744735329.py, line 1)",
     "output_type": "error",
     "traceback": [
      "\u001b[1;36m  Input \u001b[1;32mIn [2]\u001b[1;36m\u001b[0m\n\u001b[1;33m    ox = lamda(x : {1:\"O\", 0:\"X\"}[x])\u001b[0m\n\u001b[1;37m                 ^\u001b[0m\n\u001b[1;31mSyntaxError\u001b[0m\u001b[1;31m:\u001b[0m invalid syntax\n"
     ]
    }
   ],
   "source": [
    "ox = lamda(x : {1:\"O\", 0:\"X\"}[x])"
   ]
  },
  {
   "cell_type": "code",
   "execution_count": null,
   "id": "f6085727",
   "metadata": {},
   "outputs": [],
   "source": [
    "identity3 = pd.read_csv(\"덱메이커 데이터 - 인격 3동.csv\").set_index(\"id\").sort_index().fillna(0)\n",
    "identity4 = pd.read_csv(\"덱메이커 데이터 - 인격 4동.csv\").set_index(\"id\").sort_index().fillna(0)\n",
    "identity3"
   ]
  },
  {
   "cell_type": "code",
   "execution_count": null,
   "id": "2760f547",
   "metadata": {
    "scrolled": true
   },
   "outputs": [],
   "source": [
    "ego3 = pd.read_csv(\"덱메이커 데이터 - 에고 3동.csv\").set_index(\"id\").sort_index().fillna(0)\n",
    "# ego4 = pd.read_csv(\"덱메이커 데이터 - 에고 4동.csv\").set_index(\"id\").sort_index().fillna(0)\n",
    "ego3"
   ]
  },
  {
   "cell_type": "code",
   "execution_count": null,
   "id": "a4d17eb9",
   "metadata": {},
   "outputs": [],
   "source": [
    "identity3[\"poise\"] = identity3[\"poise\"].apply(ox)\n",
    "identity3[\"poise_cnt\"] = identity3[\"poise_cnt\"].apply(ox)\n",
    "identity3[\"charge\"] = identity3[\"charge\"].apply(ox)\n",
    "identity3[\"charge_cnt\"] = identity3[\"charge_cnt\"].apply(ox)\n",
    "\n",
    "identity4[\"poise\"] = identity4[\"poise\"].apply(ox)\n",
    "identity4[\"poise_cnt\"] = identity4[\"poise_cnt\"].apply(ox)\n",
    "identity4[\"charge\"] = identity4[\"charge\"].apply(ox)\n",
    "identity4[\"charge_cnt\"] = identity4[\"charge_cnt\"].apply(ox)\n",
    "\n",
    "ego3[\"poise\"] = ego3[\"poise\"].apply(ox)\n",
    "ego3[\"poise_cnt\"] = ego3[\"poise_cnt\"].apply(ox)\n",
    "ego3[\"charge\"] = ego3[\"charge\"].apply(ox)\n",
    "ego3[\"charge_cnt\"] = ego3[\"charge_cnt\"].apply(ox)\n",
    "ego3[\"poise\"] = ego3[\"ovclock_poise\"].apply(ox)\n",
    "ego3[\"poise_cnt\"] = ego3[\"ovclock_poise_cnt\"].apply(ox)\n",
    "ego3[\"charge\"] = ego3[\"ovclock_charge\"].apply(ox)\n",
    "ego3[\"charge_cnt\"] = ego3[\"ovclock_charge_cnt\"].apply(ox)\n",
    "\n",
    "# ego4[\"poise\"] = ego4[\"poise\"].apply(ox)\n",
    "# ego4[\"poise_cnt\"] = ego4[\"poise_cnt\"].apply(ox)\n",
    "# ego4[\"charge\"] = ego4[\"charge\"].apply(ox)\n",
    "# ego4[\"charge_cnt\"] = ego4[\"charge_cnt\"].apply(ox)\n",
    "# ego4[\"poise\"] = ego4[\"ovclock_poise\"].apply(ox)\n",
    "# ego4[\"poise_cnt\"] = ego4[\"ovclock_poise_cnt\"].apply(ox)\n",
    "# ego4[\"charge\"] = ego4[\"ovclock_charge\"].apply(ox)\n",
    "# ego4[\"charge_cnt\"] = ego4[\"ovclock_charge_cnt\"].apply(ox)"
   ]
  },
  {
   "cell_type": "code",
   "execution_count": null,
   "id": "1f31c9ce",
   "metadata": {},
   "outputs": [],
   "source": [
    "identity3.to_csv(\"id3.csv\")\n",
    "identity4.to_csv(\"id4.csv\")\n",
    "ego3.to_csv(\"ego3.csv\")\n",
    "# ego4.to_csv(\"ego4.csv\")"
   ]
  },
  {
   "cell_type": "code",
   "execution_count": null,
   "id": "451a87e0",
   "metadata": {},
   "outputs": [],
   "source": [
    "identity = identity3.loc[:,[\"sinner\",\"identity\"]]\n",
    "ego = ego3.loc[:,[\"sinner\",\"ego\"]]"
   ]
  },
  {
   "cell_type": "code",
   "execution_count": null,
   "id": "8fc2f5cd",
   "metadata": {},
   "outputs": [],
   "source": [
    "identity[\"Lv\"] = 45\n",
    "identity[\"uptie\"] = 3\n",
    "ego[\"uptie\"] = 3"
   ]
  },
  {
   "cell_type": "code",
   "execution_count": null,
   "id": "dddfda60",
   "metadata": {},
   "outputs": [],
   "source": [
    "pd.concat([identity,ego]).to_csv(\"list.csv\")"
   ]
  },
  {
   "cell_type": "markdown",
   "id": "bde74dfb",
   "metadata": {},
   "source": []
  }
 ],
 "metadata": {
  "kernelspec": {
   "display_name": "Python 3 (ipykernel)",
   "language": "python",
   "name": "python3"
  },
  "language_info": {
   "codemirror_mode": {
    "name": "ipython",
    "version": 3
   },
   "file_extension": ".py",
   "mimetype": "text/x-python",
   "name": "python",
   "nbconvert_exporter": "python",
   "pygments_lexer": "ipython3",
   "version": "3.9.12"
  }
 },
 "nbformat": 4,
 "nbformat_minor": 5
}
